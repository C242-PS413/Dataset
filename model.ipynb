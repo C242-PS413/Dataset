{
 "cells": [
  {
   "cell_type": "code",
   "execution_count": 30,
   "metadata": {
    "vscode": {
     "languageId": "plaintext"
    }
   },
   "outputs": [
    {
     "name": "stdout",
     "output_type": "stream",
     "text": [
      "Features shape: (12,)\n",
      "train_features shape: (12,)\n"
     ]
    },
    {
     "ename": "IndexError",
     "evalue": "tuple index out of range",
     "output_type": "error",
     "traceback": [
      "\u001b[1;31m---------------------------------------------------------------------------\u001b[0m",
      "\u001b[1;31mIndexError\u001b[0m                                Traceback (most recent call last)",
      "Cell \u001b[1;32mIn[30], line 48\u001b[0m\n\u001b[0;32m     44\u001b[0m \u001b[38;5;28mprint\u001b[39m(\u001b[38;5;124mf\u001b[39m\u001b[38;5;124m\"\u001b[39m\u001b[38;5;124mtrain_features shape: \u001b[39m\u001b[38;5;132;01m{\u001b[39;00mtrain_features\u001b[38;5;241m.\u001b[39mshape\u001b[38;5;132;01m}\u001b[39;00m\u001b[38;5;124m\"\u001b[39m)\n\u001b[0;32m     46\u001b[0m \u001b[38;5;66;03m# Build the model\u001b[39;00m\n\u001b[0;32m     47\u001b[0m model \u001b[38;5;241m=\u001b[39m tf\u001b[38;5;241m.\u001b[39mkeras\u001b[38;5;241m.\u001b[39mSequential([\n\u001b[1;32m---> 48\u001b[0m     tf\u001b[38;5;241m.\u001b[39mkeras\u001b[38;5;241m.\u001b[39mlayers\u001b[38;5;241m.\u001b[39mInputLayer(input_shape\u001b[38;5;241m=\u001b[39m(\u001b[43mtrain_features\u001b[49m\u001b[38;5;241;43m.\u001b[39;49m\u001b[43mshape\u001b[49m\u001b[43m[\u001b[49m\u001b[38;5;241;43m1\u001b[39;49m\u001b[43m]\u001b[49m,)),  \u001b[38;5;66;03m# Ensure train_features has more than one dimension\u001b[39;00m\n\u001b[0;32m     49\u001b[0m     tf\u001b[38;5;241m.\u001b[39mkeras\u001b[38;5;241m.\u001b[39mlayers\u001b[38;5;241m.\u001b[39mDense(\u001b[38;5;241m64\u001b[39m, activation\u001b[38;5;241m=\u001b[39m\u001b[38;5;124m'\u001b[39m\u001b[38;5;124mrelu\u001b[39m\u001b[38;5;124m'\u001b[39m),\n\u001b[0;32m     50\u001b[0m     tf\u001b[38;5;241m.\u001b[39mkeras\u001b[38;5;241m.\u001b[39mlayers\u001b[38;5;241m.\u001b[39mDense(\u001b[38;5;241m32\u001b[39m, activation\u001b[38;5;241m=\u001b[39m\u001b[38;5;124m'\u001b[39m\u001b[38;5;124mrelu\u001b[39m\u001b[38;5;124m'\u001b[39m),\n\u001b[0;32m     51\u001b[0m     tf\u001b[38;5;241m.\u001b[39mkeras\u001b[38;5;241m.\u001b[39mlayers\u001b[38;5;241m.\u001b[39mDense(\u001b[38;5;241m1\u001b[39m)  \u001b[38;5;66;03m# Output layer to predict id_x\u001b[39;00m\n\u001b[0;32m     52\u001b[0m ])\n\u001b[0;32m     54\u001b[0m \u001b[38;5;66;03m# Compile the model\u001b[39;00m\n\u001b[0;32m     55\u001b[0m model\u001b[38;5;241m.\u001b[39mcompile(optimizer\u001b[38;5;241m=\u001b[39m\u001b[38;5;124m'\u001b[39m\u001b[38;5;124madam\u001b[39m\u001b[38;5;124m'\u001b[39m, loss\u001b[38;5;241m=\u001b[39m\u001b[38;5;124m'\u001b[39m\u001b[38;5;124mmean_squared_error\u001b[39m\u001b[38;5;124m'\u001b[39m)\n",
      "File \u001b[1;32m~\\AppData\\Local\\Programs\\Python\\Python312\\Lib\\site-packages\\tensorflow\\python\\framework\\tensor_shape.py:962\u001b[0m, in \u001b[0;36mTensorShape.__getitem__\u001b[1;34m(self, key)\u001b[0m\n\u001b[0;32m    960\u001b[0m \u001b[38;5;28;01melse\u001b[39;00m:\n\u001b[0;32m    961\u001b[0m   \u001b[38;5;28;01mif\u001b[39;00m \u001b[38;5;28mself\u001b[39m\u001b[38;5;241m.\u001b[39m_v2_behavior:\n\u001b[1;32m--> 962\u001b[0m     \u001b[38;5;28;01mreturn\u001b[39;00m \u001b[38;5;28;43mself\u001b[39;49m\u001b[38;5;241;43m.\u001b[39;49m\u001b[43m_dims\u001b[49m\u001b[43m[\u001b[49m\u001b[43mkey\u001b[49m\u001b[43m]\u001b[49m\n\u001b[0;32m    963\u001b[0m   \u001b[38;5;28;01melse\u001b[39;00m:\n\u001b[0;32m    964\u001b[0m     \u001b[38;5;28;01mreturn\u001b[39;00m \u001b[38;5;28mself\u001b[39m\u001b[38;5;241m.\u001b[39mdims[key]\n",
      "\u001b[1;31mIndexError\u001b[0m: tuple index out of range"
     ]
    }
   ],
   "source": [
    "import tensorflow as tf\n",
    "import pandas as pd\n",
    "\n",
    "# Load the CSV file into a DataFrame\n",
    "df = pd.read_csv('Cleaned_Apparel.csv')\n",
    "\n",
    "# Map categorical columns to integer labels\n",
    "gender_map = {'Men': 0, 'Women': 1}\n",
    "season_map = {'Fall': 0, 'Summer': 1, 'Winter': 2, 'Spring': 3}\n",
    "emotion_map = {'Neutral': 0, 'Contentment': 1, 'Sadness': 2, 'Anger': 3, 'Fear': 4, 'Joy': 5}\n",
    "\n",
    "# Apply the mappings to the columns\n",
    "df['gender'] = df['gender'].map(gender_map)\n",
    "df['season'] = df['season'].map(season_map)\n",
    "df['Emotion_Category'] = df['Emotion_Category'].map(emotion_map)\n",
    "\n",
    "# Encode categorical columns using tf.keras.layers.CategoryEncoding\n",
    "gender_encoder = tf.keras.layers.CategoryEncoding(num_tokens=2, output_mode='multi_hot', sparse=False)\n",
    "season_encoder = tf.keras.layers.CategoryEncoding(num_tokens=4, output_mode='multi_hot', sparse=False)\n",
    "emotion_encoder = tf.keras.layers.CategoryEncoding(num_tokens=6, output_mode='multi_hot', sparse=False)\n",
    "\n",
    "# Apply CategoryEncoding to each column\n",
    "encoded_gender = gender_encoder(df['gender'].values)\n",
    "encoded_season = season_encoder(df['season'].values)\n",
    "encoded_emotion = emotion_encoder(df['Emotion_Category'].values)\n",
    "\n",
    "# Combine the encoded features into a single tensor\n",
    "features = tf.concat([encoded_gender, encoded_season, encoded_emotion], axis=-1)\n",
    "\n",
    "# Check the shape of the features\n",
    "print(f\"Features shape: {features.shape}\")\n",
    "\n",
    "# Split the data into training (70%) and testing (30%) using TensorFlow slicing\n",
    "dataset_size = len(df)\n",
    "train_size = int(0.7 * dataset_size)\n",
    "\n",
    "train_features = features[:train_size]\n",
    "test_features = features[train_size:]\n",
    "\n",
    "train_labels = df['id_x'][:train_size]\n",
    "test_labels = df['id_x'][train_size:]\n",
    "\n",
    "# Print the shape of train_features to check if it has more than one dimension\n",
    "print(f\"train_features shape: {train_features.shape}\")\n",
    "\n",
    "# Build the model\n",
    "model = tf.keras.Sequential([\n",
    "    tf.keras.layers.InputLayer(input_shape=(train_features.shape[1],)),  # Ensure train_features has more than one dimension\n",
    "    tf.keras.layers.Dense(64, activation='relu'),\n",
    "    tf.keras.layers.Dense(32, activation='relu'),\n",
    "    tf.keras.layers.Dense(1)  # Output layer to predict id_x\n",
    "])\n",
    "\n",
    "# Compile the model\n",
    "model.compile(optimizer='adam', loss='mean_squared_error')\n",
    "\n",
    "# Train the model\n",
    "model.fit(train_features, train_labels, epochs=10, batch_size=2)\n",
    "\n",
    "# Evaluate the model on the test set\n",
    "test_loss = model.evaluate(test_features, test_labels)\n",
    "print(f\"Test Loss: {test_loss}\")\n",
    "\n",
    "# Predicting using the model\n",
    "predictions = model.predict(test_features)\n",
    "print(predictions)\n"
   ]
  },
  {
   "cell_type": "code",
   "execution_count": null,
   "metadata": {},
   "outputs": [],
   "source": []
  }
 ],
 "metadata": {
  "kernelspec": {
   "display_name": "Python 3 (ipykernel)",
   "language": "python",
   "name": "python3"
  },
  "language_info": {
   "codemirror_mode": {
    "name": "ipython",
    "version": 3
   },
   "file_extension": ".py",
   "mimetype": "text/x-python",
   "name": "python",
   "nbconvert_exporter": "python",
   "pygments_lexer": "ipython3",
   "version": "3.12.7"
  }
 },
 "nbformat": 4,
 "nbformat_minor": 4
}
