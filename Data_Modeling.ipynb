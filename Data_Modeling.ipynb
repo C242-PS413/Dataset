{
  "nbformat": 4,
  "nbformat_minor": 0,
  "metadata": {
    "colab": {
      "provenance": [],
      "toc_visible": true
    },
    "kernelspec": {
      "name": "python3",
      "display_name": "Python 3"
    },
    "language_info": {
      "name": "python"
    }
  },
  "cells": [
    {
      "cell_type": "markdown",
      "source": [
        "# Import Library"
      ],
      "metadata": {
        "id": "cdM7y-o9JwcU"
      }
    },
    {
      "cell_type": "code",
      "source": [
        "import tensorflow as tf\n",
        "from tensorflow.keras.models import Sequential\n",
        "from tensorflow.keras.layers import Dense, Dropout\n",
        "from tensorflow.keras.utils import to_categorical\n",
        "from sklearn.metrics import balanced_accuracy_score, precision_recall_fscore_support, classification_report\n",
        "import matplotlib.pyplot as plt\n",
        "import pandas as pd\n",
        "import numpy as np"
      ],
      "metadata": {
        "id": "xxRfzM-FG-Ye"
      },
      "execution_count": 12,
      "outputs": []
    },
    {
      "cell_type": "markdown",
      "source": [
        "# Data Preprocessing"
      ],
      "metadata": {
        "id": "ESB8LuXjI6qj"
      }
    },
    {
      "cell_type": "markdown",
      "source": [
        "Load Data"
      ],
      "metadata": {
        "id": "0dMicCZJJA09"
      }
    },
    {
      "cell_type": "code",
      "source": [
        "data = pd.read_csv(\"Cleaned_Apparel.csv\")"
      ],
      "metadata": {
        "id": "suxvvjeEHHYy"
      },
      "execution_count": 13,
      "outputs": []
    },
    {
      "cell_type": "markdown",
      "source": [
        "Encode productDisplayName to Numerical"
      ],
      "metadata": {
        "id": "PKzi6CmEJJE3"
      }
    },
    {
      "cell_type": "code",
      "source": [
        "data['productDisplayName'] = data['productDisplayName'].astype(str)\n",
        "encoder = LabelEncoder()\n",
        "data['productDisplayName'] = encoder.fit_transform(data['productDisplayName'])"
      ],
      "metadata": {
        "id": "S1KUDrx_JGy5"
      },
      "execution_count": 14,
      "outputs": []
    },
    {
      "cell_type": "markdown",
      "source": [
        "Categorical Columns Encoding"
      ],
      "metadata": {
        "id": "t47qQRm2JOEN"
      }
    },
    {
      "cell_type": "code",
      "source": [
        "categorical_columns = ['gender', 'masterCategory', 'subCategory', 'articleType', 'baseColour', 'season', 'usage', 'Emotion_Category']\n",
        "for col in categorical_columns:\n",
        "    data[col] = encoder.fit_transform(data[col])"
      ],
      "metadata": {
        "id": "fy-ffKO_JL4e"
      },
      "execution_count": 15,
      "outputs": []
    },
    {
      "cell_type": "markdown",
      "source": [
        "Scale Numerical Columns"
      ],
      "metadata": {
        "id": "cnN-y8psJYtl"
      }
    },
    {
      "cell_type": "code",
      "source": [
        "scaler = StandardScaler()\n",
        "numerical_columns = ['year', 'id_x', 'id_y']\n",
        "data[numerical_columns] = scaler.fit_transform(data[numerical_columns])"
      ],
      "metadata": {
        "id": "3ip36htLJWZP"
      },
      "execution_count": 16,
      "outputs": []
    },
    {
      "cell_type": "markdown",
      "source": [
        "Separate Features and Target"
      ],
      "metadata": {
        "id": "bf9rKl6AJfba"
      }
    },
    {
      "cell_type": "code",
      "source": [
        "X = data.drop(columns=['Emotion_Category'])\n",
        "y = data['Emotion_Category']"
      ],
      "metadata": {
        "id": "CZVAJjd-JdXA"
      },
      "execution_count": 17,
      "outputs": []
    },
    {
      "cell_type": "markdown",
      "source": [
        "Split Into Training and Test Sets"
      ],
      "metadata": {
        "id": "Rqvx9OiVJpFE"
      }
    },
    {
      "cell_type": "code",
      "source": [
        "from sklearn.model_selection import train_test_split\n",
        "X_train, X_test, y_train, y_test = train_test_split(X, y, test_size=0.2, random_state=42)"
      ],
      "metadata": {
        "id": "6ddfntiRJnir"
      },
      "execution_count": 18,
      "outputs": []
    },
    {
      "cell_type": "markdown",
      "source": [
        "Convert Target to One-hot Encoding"
      ],
      "metadata": {
        "id": "XKRIwj7iJvyG"
      }
    },
    {
      "cell_type": "code",
      "source": [
        "from tensorflow.keras.utils import to_categorical\n",
        "y_train_categorical = to_categorical(y_train)\n",
        "y_test_categorical = to_categorical(y_test)"
      ],
      "metadata": {
        "id": "Hrvt7DZeHvXg"
      },
      "execution_count": 19,
      "outputs": []
    },
    {
      "cell_type": "markdown",
      "source": [
        "# Model Building"
      ],
      "metadata": {
        "id": "iN02Q7PAJ6aJ"
      }
    },
    {
      "cell_type": "code",
      "source": [
        "model = Sequential([\n",
        "    Dense(128, activation='relu', input_dim=X_train.shape[1]),\n",
        "    Dropout(0.3),\n",
        "    Dense(64, activation='relu'),\n",
        "    Dropout(0.3),\n",
        "    Dense(y_train_categorical.shape[1], activation='softmax')  # Output layer\n",
        "])"
      ],
      "metadata": {
        "colab": {
          "base_uri": "https://localhost:8080/"
        },
        "id": "0q5ByqMLHKU8",
        "outputId": "22e58c3d-ea12-4154-ec8a-a79ff97b4819"
      },
      "execution_count": 20,
      "outputs": [
        {
          "output_type": "stream",
          "name": "stderr",
          "text": [
            "/usr/local/lib/python3.10/dist-packages/keras/src/layers/core/dense.py:87: UserWarning: Do not pass an `input_shape`/`input_dim` argument to a layer. When using Sequential models, prefer using an `Input(shape)` object as the first layer in the model instead.\n",
            "  super().__init__(activity_regularizer=activity_regularizer, **kwargs)\n"
          ]
        }
      ]
    },
    {
      "cell_type": "markdown",
      "source": [
        "Compile the Model"
      ],
      "metadata": {
        "id": "N_a6vxNjKA1A"
      }
    },
    {
      "cell_type": "code",
      "source": [
        "model.compile(optimizer='adam',\n",
        "              loss='categorical_crossentropy',\n",
        "              metrics=['accuracy'])"
      ],
      "metadata": {
        "id": "2Aubl6VKKDx_"
      },
      "execution_count": 21,
      "outputs": []
    },
    {
      "cell_type": "markdown",
      "source": [
        "# Model Training"
      ],
      "metadata": {
        "id": "mbsgrEUOKFyW"
      }
    },
    {
      "cell_type": "code",
      "source": [
        "history = model.fit(X_train, y_train_categorical,\n",
        "                    validation_split=0.2,\n",
        "                    epochs=30,\n",
        "                    batch_size=32,\n",
        "                    verbose=1)"
      ],
      "metadata": {
        "colab": {
          "base_uri": "https://localhost:8080/"
        },
        "id": "OdL4bKXSHNQs",
        "outputId": "8db57106-194a-48a3-e689-8e3abdd468e6"
      },
      "execution_count": 22,
      "outputs": [
        {
          "output_type": "stream",
          "name": "stdout",
          "text": [
            "Epoch 1/30\n",
            "\u001b[1m505/505\u001b[0m \u001b[32m━━━━━━━━━━━━━━━━━━━━\u001b[0m\u001b[37m\u001b[0m \u001b[1m3s\u001b[0m 2ms/step - accuracy: 0.2359 - loss: 955.3755 - val_accuracy: 0.2703 - val_loss: 1.6647\n",
            "Epoch 2/30\n",
            "\u001b[1m505/505\u001b[0m \u001b[32m━━━━━━━━━━━━━━━━━━━━\u001b[0m\u001b[37m\u001b[0m \u001b[1m1s\u001b[0m 2ms/step - accuracy: 0.2840 - loss: 4.0975 - val_accuracy: 0.2703 - val_loss: 1.6126\n",
            "Epoch 3/30\n",
            "\u001b[1m505/505\u001b[0m \u001b[32m━━━━━━━━━━━━━━━━━━━━\u001b[0m\u001b[37m\u001b[0m \u001b[1m1s\u001b[0m 2ms/step - accuracy: 0.2815 - loss: 2.1616 - val_accuracy: 0.2703 - val_loss: 1.5924\n",
            "Epoch 4/30\n",
            "\u001b[1m505/505\u001b[0m \u001b[32m━━━━━━━━━━━━━━━━━━━━\u001b[0m\u001b[37m\u001b[0m \u001b[1m1s\u001b[0m 2ms/step - accuracy: 0.2841 - loss: 2.1278 - val_accuracy: 0.2703 - val_loss: 1.5826\n",
            "Epoch 5/30\n",
            "\u001b[1m505/505\u001b[0m \u001b[32m━━━━━━━━━━━━━━━━━━━━\u001b[0m\u001b[37m\u001b[0m \u001b[1m2s\u001b[0m 3ms/step - accuracy: 0.2842 - loss: 1.8890 - val_accuracy: 0.2703 - val_loss: 1.5764\n",
            "Epoch 6/30\n",
            "\u001b[1m505/505\u001b[0m \u001b[32m━━━━━━━━━━━━━━━━━━━━\u001b[0m\u001b[37m\u001b[0m \u001b[1m1s\u001b[0m 3ms/step - accuracy: 0.2872 - loss: 1.6022 - val_accuracy: 0.2703 - val_loss: 1.5728\n",
            "Epoch 7/30\n",
            "\u001b[1m505/505\u001b[0m \u001b[32m━━━━━━━━━━━━━━━━━━━━\u001b[0m\u001b[37m\u001b[0m \u001b[1m2s\u001b[0m 2ms/step - accuracy: 0.2819 - loss: 1.6747 - val_accuracy: 0.2703 - val_loss: 1.5703\n",
            "Epoch 8/30\n",
            "\u001b[1m505/505\u001b[0m \u001b[32m━━━━━━━━━━━━━━━━━━━━\u001b[0m\u001b[37m\u001b[0m \u001b[1m1s\u001b[0m 2ms/step - accuracy: 0.2830 - loss: 1.6560 - val_accuracy: 0.2703 - val_loss: 1.5684\n",
            "Epoch 9/30\n",
            "\u001b[1m505/505\u001b[0m \u001b[32m━━━━━━━━━━━━━━━━━━━━\u001b[0m\u001b[37m\u001b[0m \u001b[1m1s\u001b[0m 2ms/step - accuracy: 0.2847 - loss: 1.6200 - val_accuracy: 0.2703 - val_loss: 1.5672\n",
            "Epoch 10/30\n",
            "\u001b[1m505/505\u001b[0m \u001b[32m━━━━━━━━━━━━━━━━━━━━\u001b[0m\u001b[37m\u001b[0m \u001b[1m1s\u001b[0m 2ms/step - accuracy: 0.2824 - loss: 1.5663 - val_accuracy: 0.2703 - val_loss: 1.5668\n",
            "Epoch 11/30\n",
            "\u001b[1m505/505\u001b[0m \u001b[32m━━━━━━━━━━━━━━━━━━━━\u001b[0m\u001b[37m\u001b[0m \u001b[1m1s\u001b[0m 2ms/step - accuracy: 0.2849 - loss: 1.6016 - val_accuracy: 0.2703 - val_loss: 1.5663\n",
            "Epoch 12/30\n",
            "\u001b[1m505/505\u001b[0m \u001b[32m━━━━━━━━━━━━━━━━━━━━\u001b[0m\u001b[37m\u001b[0m \u001b[1m1s\u001b[0m 2ms/step - accuracy: 0.2905 - loss: 1.5679 - val_accuracy: 0.2703 - val_loss: 1.5659\n",
            "Epoch 13/30\n",
            "\u001b[1m505/505\u001b[0m \u001b[32m━━━━━━━━━━━━━━━━━━━━\u001b[0m\u001b[37m\u001b[0m \u001b[1m1s\u001b[0m 2ms/step - accuracy: 0.2835 - loss: 1.5842 - val_accuracy: 0.2703 - val_loss: 1.5656\n",
            "Epoch 14/30\n",
            "\u001b[1m505/505\u001b[0m \u001b[32m━━━━━━━━━━━━━━━━━━━━\u001b[0m\u001b[37m\u001b[0m \u001b[1m1s\u001b[0m 3ms/step - accuracy: 0.2874 - loss: 1.5695 - val_accuracy: 0.2703 - val_loss: 1.5656\n",
            "Epoch 15/30\n",
            "\u001b[1m505/505\u001b[0m \u001b[32m━━━━━━━━━━━━━━━━━━━━\u001b[0m\u001b[37m\u001b[0m \u001b[1m3s\u001b[0m 3ms/step - accuracy: 0.2883 - loss: 1.5733 - val_accuracy: 0.2703 - val_loss: 1.5652\n",
            "Epoch 16/30\n",
            "\u001b[1m505/505\u001b[0m \u001b[32m━━━━━━━━━━━━━━━━━━━━\u001b[0m\u001b[37m\u001b[0m \u001b[1m2s\u001b[0m 2ms/step - accuracy: 0.2782 - loss: 1.5679 - val_accuracy: 0.2703 - val_loss: 1.5655\n",
            "Epoch 17/30\n",
            "\u001b[1m505/505\u001b[0m \u001b[32m━━━━━━━━━━━━━━━━━━━━\u001b[0m\u001b[37m\u001b[0m \u001b[1m1s\u001b[0m 2ms/step - accuracy: 0.2869 - loss: 1.5764 - val_accuracy: 0.2703 - val_loss: 1.5653\n",
            "Epoch 18/30\n",
            "\u001b[1m505/505\u001b[0m \u001b[32m━━━━━━━━━━━━━━━━━━━━\u001b[0m\u001b[37m\u001b[0m \u001b[1m1s\u001b[0m 2ms/step - accuracy: 0.2841 - loss: 1.5955 - val_accuracy: 0.2703 - val_loss: 1.5653\n",
            "Epoch 19/30\n",
            "\u001b[1m505/505\u001b[0m \u001b[32m━━━━━━━━━━━━━━━━━━━━\u001b[0m\u001b[37m\u001b[0m \u001b[1m1s\u001b[0m 2ms/step - accuracy: 0.2873 - loss: 1.5715 - val_accuracy: 0.2703 - val_loss: 1.5650\n",
            "Epoch 20/30\n",
            "\u001b[1m505/505\u001b[0m \u001b[32m━━━━━━━━━━━━━━━━━━━━\u001b[0m\u001b[37m\u001b[0m \u001b[1m1s\u001b[0m 2ms/step - accuracy: 0.2898 - loss: 1.5849 - val_accuracy: 0.2703 - val_loss: 1.5653\n",
            "Epoch 21/30\n",
            "\u001b[1m505/505\u001b[0m \u001b[32m━━━━━━━━━━━━━━━━━━━━\u001b[0m\u001b[37m\u001b[0m \u001b[1m2s\u001b[0m 3ms/step - accuracy: 0.2826 - loss: 1.5695 - val_accuracy: 0.2703 - val_loss: 1.5653\n",
            "Epoch 22/30\n",
            "\u001b[1m505/505\u001b[0m \u001b[32m━━━━━━━━━━━━━━━━━━━━\u001b[0m\u001b[37m\u001b[0m \u001b[1m1s\u001b[0m 2ms/step - accuracy: 0.2837 - loss: 1.5888 - val_accuracy: 0.2703 - val_loss: 1.5654\n",
            "Epoch 23/30\n",
            "\u001b[1m505/505\u001b[0m \u001b[32m━━━━━━━━━━━━━━━━━━━━\u001b[0m\u001b[37m\u001b[0m \u001b[1m1s\u001b[0m 2ms/step - accuracy: 0.2808 - loss: 1.5598 - val_accuracy: 0.2703 - val_loss: 1.5657\n",
            "Epoch 24/30\n",
            "\u001b[1m505/505\u001b[0m \u001b[32m━━━━━━━━━━━━━━━━━━━━\u001b[0m\u001b[37m\u001b[0m \u001b[1m2s\u001b[0m 3ms/step - accuracy: 0.2853 - loss: 1.5601 - val_accuracy: 0.2703 - val_loss: 1.5653\n",
            "Epoch 25/30\n",
            "\u001b[1m505/505\u001b[0m \u001b[32m━━━━━━━━━━━━━━━━━━━━\u001b[0m\u001b[37m\u001b[0m \u001b[1m2s\u001b[0m 2ms/step - accuracy: 0.2883 - loss: 1.5795 - val_accuracy: 0.2703 - val_loss: 1.5651\n",
            "Epoch 26/30\n",
            "\u001b[1m505/505\u001b[0m \u001b[32m━━━━━━━━━━━━━━━━━━━━\u001b[0m\u001b[37m\u001b[0m \u001b[1m1s\u001b[0m 2ms/step - accuracy: 0.2835 - loss: 1.5629 - val_accuracy: 0.2703 - val_loss: 1.5653\n",
            "Epoch 27/30\n",
            "\u001b[1m505/505\u001b[0m \u001b[32m━━━━━━━━━━━━━━━━━━━━\u001b[0m\u001b[37m\u001b[0m \u001b[1m1s\u001b[0m 2ms/step - accuracy: 0.2876 - loss: 1.5573 - val_accuracy: 0.2703 - val_loss: 1.5652\n",
            "Epoch 28/30\n",
            "\u001b[1m505/505\u001b[0m \u001b[32m━━━━━━━━━━━━━━━━━━━━\u001b[0m\u001b[37m\u001b[0m \u001b[1m1s\u001b[0m 2ms/step - accuracy: 0.2823 - loss: 1.5602 - val_accuracy: 0.2703 - val_loss: 1.5654\n",
            "Epoch 29/30\n",
            "\u001b[1m505/505\u001b[0m \u001b[32m━━━━━━━━━━━━━━━━━━━━\u001b[0m\u001b[37m\u001b[0m \u001b[1m1s\u001b[0m 2ms/step - accuracy: 0.2821 - loss: 1.5738 - val_accuracy: 0.2703 - val_loss: 1.5656\n",
            "Epoch 30/30\n",
            "\u001b[1m505/505\u001b[0m \u001b[32m━━━━━━━━━━━━━━━━━━━━\u001b[0m\u001b[37m\u001b[0m \u001b[1m2s\u001b[0m 3ms/step - accuracy: 0.2822 - loss: 1.5645 - val_accuracy: 0.2703 - val_loss: 1.5654\n"
          ]
        }
      ]
    },
    {
      "cell_type": "markdown",
      "source": [
        "# Model Evaluation"
      ],
      "metadata": {
        "id": "RU9RnPZDKU6x"
      }
    },
    {
      "cell_type": "markdown",
      "source": [
        "Predict on Test Data"
      ],
      "metadata": {
        "id": "b0RT1__5KaVQ"
      }
    },
    {
      "cell_type": "code",
      "source": [
        "y_pred_probs = model.predict(X_test)\n",
        "y_pred = y_pred_probs.argmax(axis=1)\n",
        "\n",
        "balanced_acc = balanced_accuracy_score(y_test, y_pred)\n",
        "\n",
        "precision, recall, f1, _ = precision_recall_fscore_support(y_test, y_pred, average='weighted')\n",
        "\n",
        "report = classification_report(y_test, y_pred)"
      ],
      "metadata": {
        "colab": {
          "base_uri": "https://localhost:8080/"
        },
        "id": "J-9rF-iVHPbj",
        "outputId": "628e48c0-d644-45bc-8ee9-36e166f4b309"
      },
      "execution_count": 23,
      "outputs": [
        {
          "output_type": "stream",
          "name": "stdout",
          "text": [
            "\u001b[1m158/158\u001b[0m \u001b[32m━━━━━━━━━━━━━━━━━━━━\u001b[0m\u001b[37m\u001b[0m \u001b[1m0s\u001b[0m 1ms/step\n"
          ]
        },
        {
          "output_type": "stream",
          "name": "stderr",
          "text": [
            "/usr/local/lib/python3.10/dist-packages/sklearn/metrics/_classification.py:1531: UndefinedMetricWarning: Precision is ill-defined and being set to 0.0 in labels with no predicted samples. Use `zero_division` parameter to control this behavior.\n",
            "  _warn_prf(average, modifier, f\"{metric.capitalize()} is\", len(result))\n",
            "/usr/local/lib/python3.10/dist-packages/sklearn/metrics/_classification.py:1531: UndefinedMetricWarning: Precision is ill-defined and being set to 0.0 in labels with no predicted samples. Use `zero_division` parameter to control this behavior.\n",
            "  _warn_prf(average, modifier, f\"{metric.capitalize()} is\", len(result))\n",
            "/usr/local/lib/python3.10/dist-packages/sklearn/metrics/_classification.py:1531: UndefinedMetricWarning: Precision is ill-defined and being set to 0.0 in labels with no predicted samples. Use `zero_division` parameter to control this behavior.\n",
            "  _warn_prf(average, modifier, f\"{metric.capitalize()} is\", len(result))\n",
            "/usr/local/lib/python3.10/dist-packages/sklearn/metrics/_classification.py:1531: UndefinedMetricWarning: Precision is ill-defined and being set to 0.0 in labels with no predicted samples. Use `zero_division` parameter to control this behavior.\n",
            "  _warn_prf(average, modifier, f\"{metric.capitalize()} is\", len(result))\n"
          ]
        }
      ]
    },
    {
      "cell_type": "code",
      "source": [
        "print(f\"Balanced Accuracy: {balanced_acc:.4f}\")\n",
        "print(f\"Precision: {precision:.4f}\")\n",
        "print(f\"Recall: {recall:.4f}\")\n",
        "print(f\"F1-score: {f1:.4f}\")\n",
        "print(\"\\nClassification Report:\\n\", report)"
      ],
      "metadata": {
        "colab": {
          "base_uri": "https://localhost:8080/"
        },
        "id": "TsRNb5b4Ki7e",
        "outputId": "85347cc5-f1a6-4a1b-9cf7-fbe56afb99ba"
      },
      "execution_count": 24,
      "outputs": [
        {
          "output_type": "stream",
          "name": "stdout",
          "text": [
            "Balanced Accuracy: 0.1667\n",
            "Precision: 0.0772\n",
            "Recall: 0.2778\n",
            "F1-score: 0.1208\n",
            "\n",
            "Classification Report:\n",
            "               precision    recall  f1-score   support\n",
            "\n",
            "           0       0.00      0.00      0.00      1166\n",
            "           1       0.00      0.00      0.00      1092\n",
            "           2       0.00      0.00      0.00        34\n",
            "           3       0.28      1.00      0.43      1402\n",
            "           4       0.00      0.00      0.00       341\n",
            "           5       0.00      0.00      0.00      1012\n",
            "\n",
            "    accuracy                           0.28      5047\n",
            "   macro avg       0.05      0.17      0.07      5047\n",
            "weighted avg       0.08      0.28      0.12      5047\n",
            "\n"
          ]
        }
      ]
    },
    {
      "cell_type": "markdown",
      "source": [
        "The model's performance is poor, as indicated by a low balanced accuracy of 0.1667, precision of 0.0772, recall of 0.2778, and F1-score of 0.1208, with the classification report showing it only performs well for class 3 while completely failing to predict other classes. This suggests significant issues, likely due to class imbalance or the model overfitting to the dominant class, as precision, recall, and F1-scores for most classes are 0. The weighted averages also confirm poor generalization across all classes. To improve, techniques like addressing class imbalance through oversampling, undersampling, or class weighting, refining the model architecture, optimizing hyperparameters, and enhancing feature engineering are recommended."
      ],
      "metadata": {
        "id": "LFI8nfR8L-F8"
      }
    },
    {
      "cell_type": "markdown",
      "source": [
        "# Visualize Training Performance"
      ],
      "metadata": {
        "id": "Uxyyz6cZKmLa"
      }
    },
    {
      "cell_type": "markdown",
      "source": [
        "Plot Training and Validation Accuracy"
      ],
      "metadata": {
        "id": "DWf61oESKoxZ"
      }
    },
    {
      "cell_type": "code",
      "source": [
        "plt.plot(history.history['accuracy'], label='Train Accuracy')\n",
        "plt.plot(history.history['val_accuracy'], label='Validation Accuracy')\n",
        "plt.title('Model Accuracy')\n",
        "plt.xlabel('Epoch')\n",
        "plt.ylabel('Accuracy')\n",
        "plt.legend()\n",
        "plt.show()"
      ],
      "metadata": {
        "colab": {
          "base_uri": "https://localhost:8080/",
          "height": 472
        },
        "id": "zYMCcaCzHRl8",
        "outputId": "3375633b-5053-4855-b266-c5fc8335a02b"
      },
      "execution_count": 25,
      "outputs": [
        {
          "output_type": "display_data",
          "data": {
            "text/plain": [
              "<Figure size 640x480 with 1 Axes>"
            ],
            "image/png": "[encoded data removed]"
          },
          "metadata": {}
        }
      ]
    },
    {
      "cell_type": "markdown",
      "source": [
        "Plot training and Validation Loss"
      ],
      "metadata": {
        "id": "gymPNJvRKvu0"
      }
    },
    {
      "cell_type": "code",
      "source": [
        "plt.plot(history.history['loss'], label='Train Loss')\n",
        "plt.plot(history.history['val_loss'], label='Validation Loss')\n",
        "plt.title('Model Loss')\n",
        "plt.xlabel('Epoch')\n",
        "plt.ylabel('Loss')\n",
        "plt.legend()\n",
        "plt.show()"
      ],
      "metadata": {
        "colab": {
          "base_uri": "https://localhost:8080/",
          "height": 472
        },
        "id": "Rdw-hDfpKuWj",
        "outputId": "a7dcce6e-3a9b-47a9-9738-5ac00666f000"
      },
      "execution_count": 26,
      "outputs": [
        {
          "output_type": "display_data",
          "data": {
            "text/plain": [
              "<Figure size 640x480 with 1 Axes>"
            ],
            "image/png": "[encoded data removed]"
          },
          "metadata": {}
        }
      ]
    }
  ]
}